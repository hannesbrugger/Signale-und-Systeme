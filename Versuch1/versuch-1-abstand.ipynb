{
 "cells": [
  {
   "cell_type": "code",
   "execution_count": 72,
   "metadata": {
    "ExecuteTime": {
     "start_time": "2023-04-19T12:51:31.584247Z",
     "end_time": "2023-04-19T12:51:31.608246Z"
    }
   },
   "outputs": [],
   "source": [
    "import csv\n",
    "import os\n",
    "import matplotlib.pyplot as plt"
   ]
  },
  {
   "cell_type": "markdown",
   "metadata": {},
   "source": [
    "Messbereich 10cm - 80cm\n",
    "70 - 10 = 60"
   ]
  },
  {
   "cell_type": "code",
   "execution_count": 73,
   "metadata": {
    "collapsed": true,
    "ExecuteTime": {
     "start_time": "2023-04-19T12:51:31.600250Z",
     "end_time": "2023-04-19T12:51:31.656248Z"
    }
   },
   "outputs": [
    {
     "data": {
      "text/plain": "3.0"
     },
     "execution_count": 73,
     "metadata": {},
     "output_type": "execute_result"
    }
   ],
   "source": [
    "60/20"
   ]
  },
  {
   "cell_type": "code",
   "execution_count": 74,
   "metadata": {
    "ExecuteTime": {
     "start_time": "2023-04-19T12:51:31.616244Z",
     "end_time": "2023-04-19T12:51:31.656248Z"
    }
   },
   "outputs": [
    {
     "name": "stdout",
     "output_type": "stream",
     "text": [
      "[100, 130, 160, 190, 220, 250, 280, 310, 340, 370, 400, 430, 460, 490, 520, 550, 580, 610, 640, 670, 700]\n"
     ]
    }
   ],
   "source": [
    "cm = list(range(100,730,30))\n",
    "print(cm)"
   ]
  },
  {
   "cell_type": "code",
   "execution_count": 75,
   "metadata": {},
   "outputs": [
    {
     "ename": "SyntaxError",
     "evalue": "invalid syntax (334976833.py, line 3)",
     "output_type": "error",
     "traceback": [
      "\u001B[1;36m  File \u001B[1;32m\"C:\\Users\\jonas\\AppData\\Local\\Temp\\ipykernel_19776\\334976833.py\"\u001B[1;36m, line \u001B[1;32m3\u001B[0m\n\u001B[1;33m    for\u001B[0m\n\u001B[1;37m       ^\u001B[0m\n\u001B[1;31mSyntaxError\u001B[0m\u001B[1;31m:\u001B[0m invalid syntax\n"
     ]
    }
   ],
   "source": [
    "values = []\n",
    "with open(\"\") as file:\n",
    "    for"
   ]
  },
  {
   "cell_type": "markdown",
   "metadata": {},
   "source": []
  },
  {
   "cell_type": "code",
   "execution_count": null,
   "metadata": {},
   "outputs": [],
   "source": [
    "import numpy as np"
   ]
  },
  {
   "cell_type": "code",
   "execution_count": null,
   "metadata": {
    "ExecuteTime": {
     "start_time": "2023-04-19T12:32:54.852881Z",
     "end_time": "2023-04-19T12:32:54.869138Z"
    }
   },
   "outputs": [],
   "source": [
    "\n",
    "\n",
    "def regression(x, y):\n",
    "    mx = np.mean(x)\n",
    "    my = np.mean(y)\n",
    "    n = np.size(x)\n",
    "    val1 = np.sum(y*x) - n*my*my\n",
    "    val2 = np.sum(x*x) - n*mx*my\n",
    "    result = val1/val2\n",
    "    return result\n"
   ]
  },
  {
   "cell_type": "code",
   "execution_count": null,
   "outputs": [],
   "source": [
    "messDaten = []\n",
    "mittelwerte = []\n",
    "for i in range(0,21):\n",
    "    messDaten.append(np.genfromtxt(os.getcwd() + \"/Messdaten/Messdistanz\" + str(100 + 30*i) + \"mm.csv\", delimiter=\";\", skip_header=3, usecols=(1,)))\n",
    "    mittelwerte.append(np.mean(messDaten[i][:-500]))\n",
    "\n",
    "# print(messDaten[1][0:20])\n",
    "print(mittelwerte)"
   ],
   "metadata": {
    "collapsed": false,
    "ExecuteTime": {
     "start_time": "2023-04-19T12:25:29.377284Z",
     "end_time": "2023-04-19T12:25:29.471178Z"
    }
   }
  },
  {
   "cell_type": "code",
   "execution_count": 79,
   "outputs": [
    {
     "name": "stdout",
     "output_type": "stream",
     "text": [
      "19.311611739681222\n",
      "-113.6135860328831\n"
     ]
    },
    {
     "data": {
      "text/plain": "[<matplotlib.lines.Line2D at 0x1bcefe855e0>]"
     },
     "execution_count": 79,
     "metadata": {},
     "output_type": "execute_result"
    },
    {
     "data": {
      "text/plain": "<Figure size 640x480 with 1 Axes>",
      "image/png": "[encoded data removed]"
     },
     "metadata": {},
     "output_type": "display_data"
    }
   ],
   "source": [
    "logx = [np.log(x) for x in cm]\n",
    "logy = [np.log(m) for m in mittelwerte]\n",
    "a = regression(logx, logy)\n",
    "print(a)\n",
    "b = np.mean(logy) - a * np.mean(logx)\n",
    "print(b)\n",
    "x = [a * x + b for x in cm]\n",
    "y = [np.exp(b) * np.power(x, a) for x in cm]\n",
    "# plt.plot(x,y)\n",
    "plt.plot(logx , logy, 'o')\n",
    "# plt.plot([0, reg])"
   ],
   "metadata": {
    "collapsed": false,
    "ExecuteTime": {
     "start_time": "2023-04-19T12:55:18.652377Z",
     "end_time": "2023-04-19T12:55:18.723301Z"
    }
   }
  },
  {
   "cell_type": "code",
   "execution_count": null,
   "outputs": [],
   "source": [],
   "metadata": {
    "collapsed": false
   }
  }
 ],
 "metadata": {
  "kernelspec": {
   "display_name": "Python 3 (ipykernel)",
   "language": "python",
   "name": "python3"
  },
  "language_info": {
   "codemirror_mode": {
    "name": "ipython",
    "version": 3
   },
   "file_extension": ".py",
   "mimetype": "text/x-python",
   "name": "python",
   "nbconvert_exporter": "python",
   "pygments_lexer": "ipython3",
   "version": "3.9.13"
  }
 },
 "nbformat": 4,
 "nbformat_minor": 1
}
