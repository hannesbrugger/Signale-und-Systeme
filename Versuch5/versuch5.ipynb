{
 "cells": [
  {
   "cell_type": "code",
   "execution_count": 30,
   "metadata": {
    "collapsed": true,
    "ExecuteTime": {
     "end_time": "2023-06-19T14:46:59.079774Z",
     "start_time": "2023-06-19T14:46:59.058122300Z"
    }
   },
   "outputs": [],
   "source": [
    "import matplotlib.pyplot as plt\n",
    "import numpy as np\n",
    "import os\n",
    "import math"
   ]
  },
  {
   "cell_type": "code",
   "execution_count": 33,
   "outputs": [],
   "source": [
    "sinwave = 2.5 + np.sin(np.arange(0, 10000, 0.45))"
   ],
   "metadata": {
    "collapsed": false,
    "ExecuteTime": {
     "end_time": "2023-06-19T14:47:05.627143600Z",
     "start_time": "2023-06-19T14:47:05.580428900Z"
    }
   }
  },
  {
   "cell_type": "markdown",
   "source": [
    "# 2 Genauigkeit AD\n",
    "## Messfehler"
   ],
   "metadata": {
    "collapsed": false
   }
  },
  {
   "cell_type": "code",
   "execution_count": 34,
   "outputs": [],
   "source": [
    "zeit, voltage = np.genfromtxt(os.getcwd() + \"/Messdaten/DA-SinusSchwingung.csv\", delimiter=\";\", skip_header=3, usecols=(0,1)).T\n"
   ],
   "metadata": {
    "collapsed": false
   }
  },
  {
   "cell_type": "markdown",
   "source": [
    "# 3 Genauigkeit der DA-Wandlung"
   ],
   "metadata": {
    "collapsed": false
   }
  },
  {
   "cell_type": "markdown",
   "source": [],
   "metadata": {
    "collapsed": false
   }
  },
  {
   "cell_type": "code",
   "execution_count": 35,
   "outputs": [
    {
     "name": "stdout",
     "output_type": "stream",
     "text": [
      "Messfehler:  [0.01200000000000001, 0.017000000000000126, 0.014999999999999902, 0.03200000000000003, 0.03799999999999981, 0.040000000000000036, 0.043999999999999595, 0.04600000000000026, 0.057000000000000384]\n"
     ]
    }
   ],
   "source": [
    "powersupply,keithley,voltcraft,pico,wandler = np.genfromtxt(os.getcwd() + \"/Messdaten/DA-Wandlung.csv\", delimiter=\";\", skip_header=1, usecols=(0,1,2,3,4)).T\n",
    "messfehler = []\n",
    "for i, v in enumerate(keithley):\n",
    "    messfehler.append(pico[i] - v)\n",
    "print(\"Messfehler: \",messfehler)\n",
    "\n",
    "anz = len(messfehler)"
   ],
   "metadata": {
    "collapsed": false
   }
  },
  {
   "cell_type": "markdown",
   "source": [],
   "metadata": {
    "collapsed": false
   }
  },
  {
   "cell_type": "markdown",
   "source": [
    "### Standartabweichung"
   ],
   "metadata": {
    "collapsed": false
   }
  },
  {
   "cell_type": "code",
   "execution_count": 36,
   "outputs": [
    {
     "name": "stdout",
     "output_type": "stream",
     "text": [
      "0.038773380043529905\n"
     ]
    }
   ],
   "source": [
    "s = 0\n",
    "for i, v in enumerate(messfehler):\n",
    "    s = s + math.pow(v,2)\n",
    "s = math.sqrt( (1/(anz-1) * s))\n",
    "print(s)\n"
   ],
   "metadata": {
    "collapsed": false
   }
  },
  {
   "cell_type": "markdown",
   "source": [
    "### theoretische Quantisierungsfehler"
   ],
   "metadata": {
    "collapsed": false
   }
  },
  {
   "cell_type": "code",
   "execution_count": 38,
   "outputs": [
    {
     "name": "stdout",
     "output_type": "stream",
     "text": [
      "0.009765625\n"
     ]
    }
   ],
   "source": [
    "quantiFehlerTheo = (5 - 0) / math.pow(2, anz)\n",
    "print(quantiFehlerTheo)"
   ],
   "metadata": {
    "collapsed": false
   }
  },
  {
   "cell_type": "markdown",
   "source": [
    "# 5 Sinusschwingung"
   ],
   "metadata": {
    "collapsed": false
   }
  },
  {
   "cell_type": "code",
   "execution_count": 83,
   "outputs": [
    {
     "data": {
      "text/plain": "<Figure size 640x480 with 1 Axes>",
      "image/png": "[encoded data removed]"
     },
     "metadata": {},
     "output_type": "display_data"
    }
   ],
   "source": [
    "zeit, voltage = np.genfromtxt(os.getcwd() + \"/Messdaten/DA-SinusSchwingung.csv\", delimiter=\";\", skip_header=3, usecols=(0,1)).T\n",
    "t = np.linspace(0, 1, 100000)\n",
    "y = np.sin(t)\n",
    "sinwave = 2.5 + np.sin(np.arange(0, 10000, 0.009999)[97:])\n",
    "\n",
    "plt.plot(zeit, voltage,'b')\n",
    "plt.plot(zeit, sinwave,'r')\n",
    "plt.xlabel(\"Zeit in s\")\n",
    "plt.ylabel(\"Voltage in V  \")\n",
    "plt.show()"
   ],
   "metadata": {
    "collapsed": false
   }
  }
 ],
 "metadata": {
  "kernelspec": {
   "display_name": "Python 3",
   "language": "python",
   "name": "python3"
  },
  "language_info": {
   "codemirror_mode": {
    "name": "ipython",
    "version": 2
   },
   "file_extension": ".py",
   "mimetype": "text/x-python",
   "name": "python",
   "nbconvert_exporter": "python",
   "pygments_lexer": "ipython2",
   "version": "2.7.6"
  }
 },
 "nbformat": 4,
 "nbformat_minor": 0
}
