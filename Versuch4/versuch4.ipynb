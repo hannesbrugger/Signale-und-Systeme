{
 "cells": [
  {
   "cell_type": "code",
   "execution_count": 8,
   "metadata": {
    "collapsed": true,
    "ExecuteTime": {
     "end_time": "2023-06-16T16:15:43.621809200Z",
     "start_time": "2023-06-16T16:15:43.511963700Z"
    }
   },
   "outputs": [],
   "source": [
    "import numpy as np\n",
    "import scipy\n",
    "import matplotlib.pyplot as plt\n",
    "\n",
    "\n",
    "\n",
    "SAMPLEFREQ = 44100\n",
    "FRAMESIZE = 1024\n",
    "NOFFRAMES = 220"
   ]
  },
  {
   "cell_type": "markdown",
   "source": [
    "## Record Audio"
   ],
   "metadata": {
    "collapsed": false
   }
  },
  {
   "cell_type": "code",
   "execution_count": 9,
   "outputs": [
    {
     "ename": "CalledProcessError",
     "evalue": "Command 'b'\\nimport pyaudio\\n\\ndef recordAudio():\\n    p = pyaudio.PyAudio()\\n    FORMAT = pyaudio.paInt16\\n\\n    stream = p.open(format=FORMAT, channels=1, rate=SAMPLEFREQ, input=True, frames_per_buffer=FRAMESIZE)\\n    data = stream.read(NOFFRAMES*FRAMESIZE)\\n    decoded = np.frombuffer(data, \"int16\")\\n    stream.stop_stream()\\n    stream.close()\\n    return decoded\\n\\ndata = recordAudio()\\nplt.plot(data)\\nplt.ylabel(\"Amplitude\")\\nplt.xlabel(\"Frames\")\\nplt.show()\\n\\n\\n'' returned non-zero exit status 1.",
     "output_type": "error",
     "traceback": [
      "\u001B[0;31m---------------------------------------------------------------------------\u001B[0m",
      "\u001B[0;31mCalledProcessError\u001B[0m                        Traceback (most recent call last)",
      "\u001B[0;32m/var/folders/nh/2ym5z5ts61l3t7f4chc5vyzc0000gn/T/ipykernel_40014/3049971672.py\u001B[0m in \u001B[0;36m<module>\u001B[0;34m\u001B[0m\n\u001B[0;32m----> 1\u001B[0;31m \u001B[0mget_ipython\u001B[0m\u001B[0;34m(\u001B[0m\u001B[0;34m)\u001B[0m\u001B[0;34m.\u001B[0m\u001B[0mrun_cell_magic\u001B[0m\u001B[0;34m(\u001B[0m\u001B[0;34m'script'\u001B[0m\u001B[0;34m,\u001B[0m \u001B[0;34m'false'\u001B[0m\u001B[0;34m,\u001B[0m \u001B[0;34m'\\nimport pyaudio\\n\\ndef recordAudio():\\n    p = pyaudio.PyAudio()\\n    FORMAT = pyaudio.paInt16\\n\\n    stream = p.open(format=FORMAT, channels=1, rate=SAMPLEFREQ, input=True, frames_per_buffer=FRAMESIZE)\\n    data = stream.read(NOFFRAMES*FRAMESIZE)\\n    decoded = np.frombuffer(data, \"int16\")\\n    stream.stop_stream()\\n    stream.close()\\n    return decoded\\n\\ndata = recordAudio()\\nplt.plot(data)\\nplt.ylabel(\"Amplitude\")\\nplt.xlabel(\"Frames\")\\nplt.show()\\n\\n\\n'\u001B[0m\u001B[0;34m)\u001B[0m\u001B[0;34m\u001B[0m\u001B[0;34m\u001B[0m\u001B[0m\n\u001B[0m",
      "\u001B[0;32m~/opt/anaconda3/lib/python3.9/site-packages/IPython/core/interactiveshell.py\u001B[0m in \u001B[0;36mrun_cell_magic\u001B[0;34m(self, magic_name, line, cell)\u001B[0m\n\u001B[1;32m   2417\u001B[0m             \u001B[0;32mwith\u001B[0m \u001B[0mself\u001B[0m\u001B[0;34m.\u001B[0m\u001B[0mbuiltin_trap\u001B[0m\u001B[0;34m:\u001B[0m\u001B[0;34m\u001B[0m\u001B[0;34m\u001B[0m\u001B[0m\n\u001B[1;32m   2418\u001B[0m                 \u001B[0margs\u001B[0m \u001B[0;34m=\u001B[0m \u001B[0;34m(\u001B[0m\u001B[0mmagic_arg_s\u001B[0m\u001B[0;34m,\u001B[0m \u001B[0mcell\u001B[0m\u001B[0;34m)\u001B[0m\u001B[0;34m\u001B[0m\u001B[0;34m\u001B[0m\u001B[0m\n\u001B[0;32m-> 2419\u001B[0;31m                 \u001B[0mresult\u001B[0m \u001B[0;34m=\u001B[0m \u001B[0mfn\u001B[0m\u001B[0;34m(\u001B[0m\u001B[0;34m*\u001B[0m\u001B[0margs\u001B[0m\u001B[0;34m,\u001B[0m \u001B[0;34m**\u001B[0m\u001B[0mkwargs\u001B[0m\u001B[0;34m)\u001B[0m\u001B[0;34m\u001B[0m\u001B[0;34m\u001B[0m\u001B[0m\n\u001B[0m\u001B[1;32m   2420\u001B[0m             \u001B[0;32mreturn\u001B[0m \u001B[0mresult\u001B[0m\u001B[0;34m\u001B[0m\u001B[0;34m\u001B[0m\u001B[0m\n\u001B[1;32m   2421\u001B[0m \u001B[0;34m\u001B[0m\u001B[0m\n",
      "\u001B[0;32m~/opt/anaconda3/lib/python3.9/site-packages/decorator.py\u001B[0m in \u001B[0;36mfun\u001B[0;34m(*args, **kw)\u001B[0m\n\u001B[1;32m    230\u001B[0m             \u001B[0;32mif\u001B[0m \u001B[0;32mnot\u001B[0m \u001B[0mkwsyntax\u001B[0m\u001B[0;34m:\u001B[0m\u001B[0;34m\u001B[0m\u001B[0;34m\u001B[0m\u001B[0m\n\u001B[1;32m    231\u001B[0m                 \u001B[0margs\u001B[0m\u001B[0;34m,\u001B[0m \u001B[0mkw\u001B[0m \u001B[0;34m=\u001B[0m \u001B[0mfix\u001B[0m\u001B[0;34m(\u001B[0m\u001B[0margs\u001B[0m\u001B[0;34m,\u001B[0m \u001B[0mkw\u001B[0m\u001B[0;34m,\u001B[0m \u001B[0msig\u001B[0m\u001B[0;34m)\u001B[0m\u001B[0;34m\u001B[0m\u001B[0;34m\u001B[0m\u001B[0m\n\u001B[0;32m--> 232\u001B[0;31m             \u001B[0;32mreturn\u001B[0m \u001B[0mcaller\u001B[0m\u001B[0;34m(\u001B[0m\u001B[0mfunc\u001B[0m\u001B[0;34m,\u001B[0m \u001B[0;34m*\u001B[0m\u001B[0;34m(\u001B[0m\u001B[0mextras\u001B[0m \u001B[0;34m+\u001B[0m \u001B[0margs\u001B[0m\u001B[0;34m)\u001B[0m\u001B[0;34m,\u001B[0m \u001B[0;34m**\u001B[0m\u001B[0mkw\u001B[0m\u001B[0;34m)\u001B[0m\u001B[0;34m\u001B[0m\u001B[0;34m\u001B[0m\u001B[0m\n\u001B[0m\u001B[1;32m    233\u001B[0m     \u001B[0mfun\u001B[0m\u001B[0;34m.\u001B[0m\u001B[0m__name__\u001B[0m \u001B[0;34m=\u001B[0m \u001B[0mfunc\u001B[0m\u001B[0;34m.\u001B[0m\u001B[0m__name__\u001B[0m\u001B[0;34m\u001B[0m\u001B[0;34m\u001B[0m\u001B[0m\n\u001B[1;32m    234\u001B[0m     \u001B[0mfun\u001B[0m\u001B[0;34m.\u001B[0m\u001B[0m__doc__\u001B[0m \u001B[0;34m=\u001B[0m \u001B[0mfunc\u001B[0m\u001B[0;34m.\u001B[0m\u001B[0m__doc__\u001B[0m\u001B[0;34m\u001B[0m\u001B[0;34m\u001B[0m\u001B[0m\n",
      "\u001B[0;32m~/opt/anaconda3/lib/python3.9/site-packages/IPython/core/magic.py\u001B[0m in \u001B[0;36m<lambda>\u001B[0;34m(f, *a, **k)\u001B[0m\n\u001B[1;32m    185\u001B[0m     \u001B[0;31m# but it's overkill for just that one bit of state.\u001B[0m\u001B[0;34m\u001B[0m\u001B[0;34m\u001B[0m\u001B[0m\n\u001B[1;32m    186\u001B[0m     \u001B[0;32mdef\u001B[0m \u001B[0mmagic_deco\u001B[0m\u001B[0;34m(\u001B[0m\u001B[0marg\u001B[0m\u001B[0;34m)\u001B[0m\u001B[0;34m:\u001B[0m\u001B[0;34m\u001B[0m\u001B[0;34m\u001B[0m\u001B[0m\n\u001B[0;32m--> 187\u001B[0;31m         \u001B[0mcall\u001B[0m \u001B[0;34m=\u001B[0m \u001B[0;32mlambda\u001B[0m \u001B[0mf\u001B[0m\u001B[0;34m,\u001B[0m \u001B[0;34m*\u001B[0m\u001B[0ma\u001B[0m\u001B[0;34m,\u001B[0m \u001B[0;34m**\u001B[0m\u001B[0mk\u001B[0m\u001B[0;34m:\u001B[0m \u001B[0mf\u001B[0m\u001B[0;34m(\u001B[0m\u001B[0;34m*\u001B[0m\u001B[0ma\u001B[0m\u001B[0;34m,\u001B[0m \u001B[0;34m**\u001B[0m\u001B[0mk\u001B[0m\u001B[0;34m)\u001B[0m\u001B[0;34m\u001B[0m\u001B[0;34m\u001B[0m\u001B[0m\n\u001B[0m\u001B[1;32m    188\u001B[0m \u001B[0;34m\u001B[0m\u001B[0m\n\u001B[1;32m    189\u001B[0m         \u001B[0;32mif\u001B[0m \u001B[0mcallable\u001B[0m\u001B[0;34m(\u001B[0m\u001B[0marg\u001B[0m\u001B[0;34m)\u001B[0m\u001B[0;34m:\u001B[0m\u001B[0;34m\u001B[0m\u001B[0;34m\u001B[0m\u001B[0m\n",
      "\u001B[0;32m~/opt/anaconda3/lib/python3.9/site-packages/IPython/core/magics/script.py\u001B[0m in \u001B[0;36mshebang\u001B[0;34m(self, line, cell)\u001B[0m\n\u001B[1;32m    243\u001B[0m             \u001B[0msys\u001B[0m\u001B[0;34m.\u001B[0m\u001B[0mstderr\u001B[0m\u001B[0;34m.\u001B[0m\u001B[0mflush\u001B[0m\u001B[0;34m(\u001B[0m\u001B[0;34m)\u001B[0m\u001B[0;34m\u001B[0m\u001B[0;34m\u001B[0m\u001B[0m\n\u001B[1;32m    244\u001B[0m         \u001B[0;32mif\u001B[0m \u001B[0margs\u001B[0m\u001B[0;34m.\u001B[0m\u001B[0mraise_error\u001B[0m \u001B[0;32mand\u001B[0m \u001B[0mp\u001B[0m\u001B[0;34m.\u001B[0m\u001B[0mreturncode\u001B[0m\u001B[0;34m!=\u001B[0m\u001B[0;36m0\u001B[0m\u001B[0;34m:\u001B[0m\u001B[0;34m\u001B[0m\u001B[0;34m\u001B[0m\u001B[0m\n\u001B[0;32m--> 245\u001B[0;31m             \u001B[0;32mraise\u001B[0m \u001B[0mCalledProcessError\u001B[0m\u001B[0;34m(\u001B[0m\u001B[0mp\u001B[0m\u001B[0;34m.\u001B[0m\u001B[0mreturncode\u001B[0m\u001B[0;34m,\u001B[0m \u001B[0mcell\u001B[0m\u001B[0;34m,\u001B[0m \u001B[0moutput\u001B[0m\u001B[0;34m=\u001B[0m\u001B[0mout\u001B[0m\u001B[0;34m,\u001B[0m \u001B[0mstderr\u001B[0m\u001B[0;34m=\u001B[0m\u001B[0merr\u001B[0m\u001B[0;34m)\u001B[0m\u001B[0;34m\u001B[0m\u001B[0;34m\u001B[0m\u001B[0m\n\u001B[0m\u001B[1;32m    246\u001B[0m \u001B[0;34m\u001B[0m\u001B[0m\n\u001B[1;32m    247\u001B[0m     \u001B[0;32mdef\u001B[0m \u001B[0m_run_script\u001B[0m\u001B[0;34m(\u001B[0m\u001B[0mself\u001B[0m\u001B[0;34m,\u001B[0m \u001B[0mp\u001B[0m\u001B[0;34m,\u001B[0m \u001B[0mcell\u001B[0m\u001B[0;34m,\u001B[0m \u001B[0mto_close\u001B[0m\u001B[0;34m)\u001B[0m\u001B[0;34m:\u001B[0m\u001B[0;34m\u001B[0m\u001B[0;34m\u001B[0m\u001B[0m\n",
      "\u001B[0;31mCalledProcessError\u001B[0m: Command 'b'\\nimport pyaudio\\n\\ndef recordAudio():\\n    p = pyaudio.PyAudio()\\n    FORMAT = pyaudio.paInt16\\n\\n    stream = p.open(format=FORMAT, channels=1, rate=SAMPLEFREQ, input=True, frames_per_buffer=FRAMESIZE)\\n    data = stream.read(NOFFRAMES*FRAMESIZE)\\n    decoded = np.frombuffer(data, \"int16\")\\n    stream.stop_stream()\\n    stream.close()\\n    return decoded\\n\\ndata = recordAudio()\\nplt.plot(data)\\nplt.ylabel(\"Amplitude\")\\nplt.xlabel(\"Frames\")\\nplt.show()\\n\\n\\n'' returned non-zero exit status 1."
     ]
    }
   ],
   "source": [
    "%%script false\n",
    "\n",
    "import pyaudio\n",
    "\n",
    "def recordAudio():\n",
    "    p = pyaudio.PyAudio()\n",
    "    FORMAT = pyaudio.paInt16\n",
    "\n",
    "    stream = p.open(format=FORMAT, channels=1, rate=SAMPLEFREQ, input=True, frames_per_buffer=FRAMESIZE)\n",
    "    data = stream.read(NOFFRAMES*FRAMESIZE)\n",
    "    decoded = np.frombuffer(data, \"int16\")\n",
    "    stream.stop_stream()\n",
    "    stream.close()\n",
    "    return decoded\n",
    "\n",
    "data = recordAudio()\n",
    "plt.plot(data)\n",
    "plt.ylabel(\"Amplitude\")\n",
    "plt.xlabel(\"Frames\")\n",
    "plt.show()\n",
    "\n"
   ],
   "metadata": {
    "collapsed": false,
    "ExecuteTime": {
     "end_time": "2023-06-16T16:15:43.700332800Z",
     "start_time": "2023-06-16T16:15:43.527610100Z"
    }
   }
  },
  {
   "cell_type": "markdown",
   "source": [
    "# Input normalisieren"
   ],
   "metadata": {
    "collapsed": false
   }
  },
  {
   "cell_type": "code",
   "execution_count": null,
   "outputs": [],
   "source": [
    "def normInput(decoded):\n",
    "    for i, v in enumerate(decoded):\n",
    "        if v > 500:\n",
    "            decoded = decoded[i:]\n",
    "            break\n",
    "    if len(decoded) > SAMPLEFREQ:\n",
    "        decoded = decoded[:SAMPLEFREQ]\n",
    "    while len(decoded) < SAMPLEFREQ:\n",
    "        np.append(decoded, 0)\n",
    "    return decoded\n",
    "\n",
    "plt.plot(normInput(data))\n",
    "plt.ylabel(\"Amplitude\")\n",
    "plt.xlabel(\"Frames\")\n",
    "plt.show()"
   ],
   "metadata": {
    "collapsed": false,
    "ExecuteTime": {
     "end_time": "2023-06-16T16:15:43.789020700Z",
     "start_time": "2023-06-16T16:15:43.558858900Z"
    }
   }
  },
  {
   "cell_type": "code",
   "execution_count": null,
   "outputs": [],
   "source": [
    "%%script false\n",
    "\n",
    "typ = \"TestDaten\"\n",
    "befehl = \"\"\n",
    "name = \"hannes\"\n",
    "for i in range(5):\n",
    "    print(\"Start\")\n",
    "    data = normInput(recordAudio())\n",
    "    if len(name) == 0:\n",
    "        np.save(f\"Messdaten/{typ}/{befehl}/{befehl}{i}\", data)\n",
    "    else:\n",
    "        np.save(f\"Messdaten/{typ}/{name}/{befehl}/{befehl}{i}\", data)\n",
    "    plt.plot(data)\n",
    "    plt.show()"
   ],
   "metadata": {
    "collapsed": false,
    "ExecuteTime": {
     "end_time": "2023-06-16T16:15:43.789020700Z",
     "start_time": "2023-06-16T16:15:43.762851400Z"
    }
   }
  },
  {
   "cell_type": "markdown",
   "source": [
    "# Import npy file"
   ],
   "metadata": {
    "collapsed": false
   }
  },
  {
   "cell_type": "code",
   "execution_count": null,
   "outputs": [],
   "source": [
    "data = np.load(\"Messdaten/Referenzen/hoch/hoch0.npy\")"
   ],
   "metadata": {
    "collapsed": false,
    "ExecuteTime": {
     "end_time": "2023-06-16T16:15:43.810191700Z",
     "start_time": "2023-06-16T16:15:43.778506100Z"
    }
   }
  },
  {
   "cell_type": "markdown",
   "source": [
    "# Amplitudenspektrum"
   ],
   "metadata": {
    "collapsed": false
   }
  },
  {
   "cell_type": "code",
   "execution_count": null,
   "outputs": [],
   "source": [
    "fourier_transform = np.fft.fft(data)\n",
    "amplituden = np.abs(fourier_transform)\n",
    "\n",
    "plt.plot(amplituden[:1000])\n",
    "plt.xlabel('Frames')\n",
    "plt.ylabel('Amplitude')\n",
    "plt.title('Amplitude Spectrum')"
   ],
   "metadata": {
    "collapsed": false,
    "ExecuteTime": {
     "end_time": "2023-06-16T16:15:43.983341800Z",
     "start_time": "2023-06-16T16:15:43.810191700Z"
    }
   }
  },
  {
   "cell_type": "markdown",
   "source": [
    "# Windowing"
   ],
   "metadata": {
    "collapsed": false
   }
  },
  {
   "cell_type": "code",
   "execution_count": null,
   "outputs": [],
   "source": [
    "def windowing(win_data):\n",
    "    windowSize = 512\n",
    "    window = scipy.signal.windows.gaussian(windowSize, std=windowSize/4)\n",
    "    windows_fft = []\n",
    "\n",
    "    for i in range(0, SAMPLEFREQ, int(windowSize/2)):\n",
    "        localData = data[i:i+windowSize]\n",
    "        if len(localData) != 512:\n",
    "            continue\n",
    "        local_fft = np.fft.fft(localData*window)\n",
    "        windows_fft.append(local_fft)\n",
    "    mean_fft = np.array(windows_fft).mean(axis=0)\n",
    "    amplituden = np.abs(mean_fft)\n",
    "    return amplituden"
   ],
   "metadata": {
    "collapsed": false,
    "ExecuteTime": {
     "end_time": "2023-06-16T16:15:43.999397100Z",
     "start_time": "2023-06-16T16:15:43.988864800Z"
    }
   }
  },
  {
   "cell_type": "code",
   "execution_count": null,
   "outputs": [],
   "source": [
    "plt.plot(windowing(data)[:100])\n",
    "plt.title(\"Amplitude Spectrum\")\n",
    "plt.xlabel(\"Amplitude\")\n",
    "plt.ylabel(\"Frequenz (hz)\")\n",
    "plt.show()"
   ],
   "metadata": {
    "collapsed": false,
    "ExecuteTime": {
     "end_time": "2023-06-16T16:15:44.205345700Z",
     "start_time": "2023-06-16T16:15:43.999397100Z"
    }
   }
  },
  {
   "cell_type": "markdown",
   "source": [
    "# Daten einlesen"
   ],
   "metadata": {
    "collapsed": false
   }
  },
  {
   "cell_type": "code",
   "execution_count": null,
   "outputs": [],
   "source": [
    "\n",
    "befehle = [\"hoch\", \"runter\", \"links\", \"rechts\"]\n",
    "\n",
    "ref_dict = {}\n",
    "for idx_befehl, befehl in enumerate(befehle):\n",
    "    ref_dict[befehl] = []\n",
    "    for i in range(5):\n",
    "        data = np.load(f\"Messdaten/Referenzen/{befehl}/{befehl}{i}.npy\")\n",
    "        ref_dict[befehl].append(windowing(data))\n",
    "    ref_dict[befehl] = np.array(ref_dict[befehl]).mean(axis=0)\n",
    "    plt.subplot(2, 2, idx_befehl + 1)\n",
    "    plt.plot(ref_dict[befehl][:20])\n",
    "    plt.title(befehl)\n",
    "\n",
    "plt.show()\n"
   ],
   "metadata": {
    "collapsed": false,
    "ExecuteTime": {
     "end_time": "2023-06-16T16:15:44.939477400Z",
     "start_time": "2023-06-16T16:15:44.205345700Z"
    }
   }
  },
  {
   "cell_type": "markdown",
   "source": [
    "# Testdatensätze"
   ],
   "metadata": {
    "collapsed": false
   }
  },
  {
   "cell_type": "code",
   "execution_count": null,
   "outputs": [],
   "source": [
    "tests_dict = {}\n",
    "namen = [\"jonas\", \"hannes\"]\n",
    "\n",
    "for idx_name, name in enumerate(namen):\n",
    "    tests_dict[name] = {}\n",
    "    for idx_befehl, befehl in enumerate(befehle):\n",
    "        tests_dict[name][befehl] = []\n",
    "        for i in range(5):\n",
    "            data = np.load(f\"Messdaten/TestDaten/{name}/{befehl}/{befehl}{i}.npy\")\n",
    "            tests_dict[name][befehl].append(windowing(data))\n",
    "        tests_dict[name][befehl] = np.array(tests_dict[name][befehl]).mean(axis=0)\n",
    "        plt.subplot(3, 4, idx_name*4 + idx_befehl + 1)\n",
    "        plt.plot(tests_dict[name][befehl][:20])\n",
    "        plt.title(f\"{name}: {befehl}\")\n",
    "\n",
    "plt.show()\n"
   ],
   "metadata": {
    "collapsed": false,
    "ExecuteTime": {
     "end_time": "2023-06-16T16:15:46.066608600Z",
     "start_time": "2023-06-16T16:15:44.937094200Z"
    }
   }
  },
  {
   "cell_type": "markdown",
   "source": [
    "# Korrelation"
   ],
   "metadata": {
    "collapsed": false
   }
  },
  {
   "cell_type": "code",
   "execution_count": null,
   "outputs": [],
   "source": [
    "def std_ab(d):\n",
    "    mean = np.mean(d)\n",
    "    return np.sqrt(sum(np.power(x - mean, 2) for x in d) / len(d))\n",
    "\n",
    "def get_korr(input, ref):\n",
    "    xMean = np.mean(input)\n",
    "    yMean = np.mean(ref)\n",
    "    length = len(input)\n",
    "    kovarianz = sum((x - xMean) * (y - yMean)for x, y in zip(input, ref)) / length\n",
    "    return kovarianz / (std_ab(input) * std_ab(ref))\n",
    "\n"
   ],
   "metadata": {
    "collapsed": false,
    "ExecuteTime": {
     "end_time": "2023-06-16T16:15:46.076005600Z",
     "start_time": "2023-06-16T16:15:46.066520100Z"
    }
   }
  },
  {
   "cell_type": "markdown",
   "source": [
    "# Vergleich"
   ],
   "metadata": {
    "collapsed": false
   }
  },
  {
   "cell_type": "code",
   "execution_count": null,
   "outputs": [],
   "source": [
    "korr_dict = {}\n",
    "for befehl in befehle:\n",
    "    korr_dict[befehl] = {}\n",
    "    ref = ref_dict[befehl]\n",
    "    for name in namen:\n",
    "        korr_dict[befehl][name] = get_korr(tests_dict[name][befehl], ref)\n",
    "\n",
    "\n",
    "for befehl, names in korr_dict.items():\n",
    "    for name, korr in names.items():\n",
    "        print(f\"{name} mit Befehlt {befehl} korreliert mit {korr}\")\n",
    "\n"
   ],
   "metadata": {
    "collapsed": false,
    "ExecuteTime": {
     "end_time": "2023-06-16T16:15:46.144246900Z",
     "start_time": "2023-06-16T16:15:46.072866200Z"
    }
   }
  },
  {
   "cell_type": "markdown",
   "source": [
    "## Testdaten verglichen mit allen Referenzen"
   ],
   "metadata": {
    "collapsed": false
   }
  },
  {
   "cell_type": "code",
   "execution_count": null,
   "outputs": [],
   "source": [
    "# befehl_dict {\"hoch\", daten, \"rechts\", daten, usw.}\n",
    "for name, befehl_dict in tests_dict.items():\n",
    "    score = 0\n",
    "    print(f\"{name.title()}:\")\n",
    "\n",
    "    for befehl, testDaten in befehl_dict.items():\n",
    "        korrs = []\n",
    "        # ref_befehl = welcher befehl (zb. \"hoch\"), ref = refDaten\n",
    "        for ref_befehl, ref in ref_dict.items():\n",
    "\n",
    "            korrs.append((ref_befehl, get_korr(testDaten, ref)))\n",
    "        korrs.sort(key=lambda t: t[1], reverse=True)\n",
    "        print(f\"'{befehl.title()}' Korreliert am besten mit '{korrs[0][0].title()}': {korrs[0][1]}\")\n",
    "        if befehl == korrs[0][0]:\n",
    "            score += 1\n",
    "    print(f\"Score: {(score / 4) * 100}%\")\n"
   ],
   "metadata": {
    "collapsed": false,
    "ExecuteTime": {
     "end_time": "2023-06-16T16:15:46.301799300Z",
     "start_time": "2023-06-16T16:15:46.159875900Z"
    }
   }
  }
 ],
 "metadata": {
  "kernelspec": {
   "display_name": "Python 3",
   "language": "python",
   "name": "python3"
  },
  "language_info": {
   "codemirror_mode": {
    "name": "ipython",
    "version": 2
   },
   "file_extension": ".py",
   "mimetype": "text/x-python",
   "name": "python",
   "nbconvert_exporter": "python",
   "pygments_lexer": "ipython2",
   "version": "2.7.6"
  }
 },
 "nbformat": 4,
 "nbformat_minor": 0
}
